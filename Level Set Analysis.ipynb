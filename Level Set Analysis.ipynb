{
 "cells": [
  {
   "cell_type": "markdown",
   "id": "af663778",
   "metadata": {},
   "source": [
    "# Setup"
   ]
  },
  {
   "cell_type": "code",
   "execution_count": 1,
   "id": "e47a0dcc",
   "metadata": {},
   "outputs": [],
   "source": [
    "import pandas as pd\n",
    "import matplotlib.pyplot as plt\n",
    "import matplotlib.patches as mpatches\n",
    "import numpy as np\n",
    "%matplotlib inline\n",
    "\n",
    "plt.style.use('seaborn-colorblind')"
   ]
  },
  {
   "cell_type": "markdown",
   "id": "575b2d7b",
   "metadata": {},
   "source": [
    "# Read Data"
   ]
  },
  {
   "cell_type": "code",
   "execution_count": 2,
   "id": "5ac70ea5",
   "metadata": {},
   "outputs": [
    {
     "data": {
      "text/html": [
       "<div>\n",
       "<style scoped>\n",
       "    .dataframe tbody tr th:only-of-type {\n",
       "        vertical-align: middle;\n",
       "    }\n",
       "\n",
       "    .dataframe tbody tr th {\n",
       "        vertical-align: top;\n",
       "    }\n",
       "\n",
       "    .dataframe thead th {\n",
       "        text-align: right;\n",
       "    }\n",
       "</style>\n",
       "<table border=\"1\" class=\"dataframe\">\n",
       "  <thead>\n",
       "    <tr style=\"text-align: right;\">\n",
       "      <th></th>\n",
       "      <th>image_no</th>\n",
       "      <th>category</th>\n",
       "      <th>our_evaluation</th>\n",
       "      <th>radiologist_evaluation</th>\n",
       "    </tr>\n",
       "  </thead>\n",
       "  <tbody>\n",
       "    <tr>\n",
       "      <th>0</th>\n",
       "      <td>1</td>\n",
       "      <td>0</td>\n",
       "      <td>0</td>\n",
       "      <td>0</td>\n",
       "    </tr>\n",
       "    <tr>\n",
       "      <th>1</th>\n",
       "      <td>2</td>\n",
       "      <td>2</td>\n",
       "      <td>-1</td>\n",
       "      <td>-1</td>\n",
       "    </tr>\n",
       "    <tr>\n",
       "      <th>2</th>\n",
       "      <td>3</td>\n",
       "      <td>0</td>\n",
       "      <td>1</td>\n",
       "      <td>1</td>\n",
       "    </tr>\n",
       "    <tr>\n",
       "      <th>3</th>\n",
       "      <td>4</td>\n",
       "      <td>0</td>\n",
       "      <td>1</td>\n",
       "      <td>0</td>\n",
       "    </tr>\n",
       "    <tr>\n",
       "      <th>4</th>\n",
       "      <td>5</td>\n",
       "      <td>0</td>\n",
       "      <td>1</td>\n",
       "      <td>1</td>\n",
       "    </tr>\n",
       "  </tbody>\n",
       "</table>\n",
       "</div>"
      ],
      "text/plain": [
       "   image_no  category  our_evaluation  radiologist_evaluation\n",
       "0         1         0               0                       0\n",
       "1         2         2              -1                      -1\n",
       "2         3         0               1                       1\n",
       "3         4         0               1                       0\n",
       "4         5         0               1                       1"
      ]
     },
     "execution_count": 2,
     "metadata": {},
     "output_type": "execute_result"
    }
   ],
   "source": [
    "df = pd.read_csv('level_set_results.csv')\n",
    "df.head()"
   ]
  },
  {
   "cell_type": "code",
   "execution_count": 3,
   "id": "5382b3a6",
   "metadata": {},
   "outputs": [
    {
     "name": "stdout",
     "output_type": "stream",
     "text": [
      "<class 'pandas.core.frame.DataFrame'>\n",
      "RangeIndex: 322 entries, 0 to 321\n",
      "Data columns (total 4 columns):\n",
      " #   Column                  Non-Null Count  Dtype\n",
      "---  ------                  --------------  -----\n",
      " 0   image_no                322 non-null    int64\n",
      " 1   category                322 non-null    int64\n",
      " 2   our_evaluation          322 non-null    int64\n",
      " 3   radiologist_evaluation  322 non-null    int64\n",
      "dtypes: int64(4)\n",
      "memory usage: 10.2 KB\n"
     ]
    }
   ],
   "source": [
    "df.info()"
   ]
  },
  {
   "cell_type": "code",
   "execution_count": 4,
   "id": "c194a47d",
   "metadata": {},
   "outputs": [
    {
     "data": {
      "text/html": [
       "<div>\n",
       "<style scoped>\n",
       "    .dataframe tbody tr th:only-of-type {\n",
       "        vertical-align: middle;\n",
       "    }\n",
       "\n",
       "    .dataframe tbody tr th {\n",
       "        vertical-align: top;\n",
       "    }\n",
       "\n",
       "    .dataframe thead th {\n",
       "        text-align: right;\n",
       "    }\n",
       "</style>\n",
       "<table border=\"1\" class=\"dataframe\">\n",
       "  <thead>\n",
       "    <tr style=\"text-align: right;\">\n",
       "      <th></th>\n",
       "      <th>image_no</th>\n",
       "      <th>category</th>\n",
       "      <th>our_evaluation</th>\n",
       "      <th>radiologist_evaluation</th>\n",
       "    </tr>\n",
       "  </thead>\n",
       "  <tbody>\n",
       "    <tr>\n",
       "      <th>0</th>\n",
       "      <td>1</td>\n",
       "      <td>normal</td>\n",
       "      <td>unacceptable</td>\n",
       "      <td>unacceptable</td>\n",
       "    </tr>\n",
       "    <tr>\n",
       "      <th>1</th>\n",
       "      <td>2</td>\n",
       "      <td>corrupted</td>\n",
       "      <td>anomaly</td>\n",
       "      <td>anomaly</td>\n",
       "    </tr>\n",
       "    <tr>\n",
       "      <th>2</th>\n",
       "      <td>3</td>\n",
       "      <td>normal</td>\n",
       "      <td>acceptable</td>\n",
       "      <td>acceptable</td>\n",
       "    </tr>\n",
       "    <tr>\n",
       "      <th>3</th>\n",
       "      <td>4</td>\n",
       "      <td>normal</td>\n",
       "      <td>acceptable</td>\n",
       "      <td>unacceptable</td>\n",
       "    </tr>\n",
       "    <tr>\n",
       "      <th>4</th>\n",
       "      <td>5</td>\n",
       "      <td>normal</td>\n",
       "      <td>acceptable</td>\n",
       "      <td>acceptable</td>\n",
       "    </tr>\n",
       "  </tbody>\n",
       "</table>\n",
       "</div>"
      ],
      "text/plain": [
       "   image_no   category our_evaluation radiologist_evaluation\n",
       "0         1     normal   unacceptable           unacceptable\n",
       "1         2  corrupted        anomaly                anomaly\n",
       "2         3     normal     acceptable             acceptable\n",
       "3         4     normal     acceptable           unacceptable\n",
       "4         5     normal     acceptable             acceptable"
      ]
     },
     "execution_count": 4,
     "metadata": {},
     "output_type": "execute_result"
    }
   ],
   "source": [
    "# rename the numbers to human-friendly values\n",
    "category_original = [0, 1, 2, 3, 4]\n",
    "category_meaning = [\n",
    "    'normal',\n",
    "    'internal boundary',\n",
    "    'corrupted',\n",
    "    'no muscle',\n",
    "    'no boundary'\n",
    "]\n",
    "evaluation_original = [-1, 0, 1]\n",
    "evaluation_meaning = [\n",
    "    'anomaly',\n",
    "    'unacceptable',\n",
    "    'acceptable'\n",
    "]\n",
    "\n",
    "df['category'] = df['category'].replace(category_original, category_meaning)\n",
    "df['our_evaluation'] = df['our_evaluation'].replace(evaluation_original, evaluation_meaning)\n",
    "df['radiologist_evaluation'] = df['radiologist_evaluation'].replace(evaluation_original, evaluation_meaning)\n",
    "\n",
    "df.head()"
   ]
  },
  {
   "cell_type": "markdown",
   "id": "2ad6c7d2",
   "metadata": {},
   "source": [
    "# Analysis\n",
    "\n",
    "Let's analyse the data!\n",
    "\n",
    "### Comparison of Our Evaluation to Radiologist's Evaluation\n",
    "\n",
    "\n",
    "Let's see how much difference there lies in the evaluations."
   ]
  },
  {
   "cell_type": "code",
   "execution_count": 5,
   "id": "9fbeb944",
   "metadata": {},
   "outputs": [
    {
     "data": {
      "image/png": "[encoded data removed]",
      "text/plain": [
       "<Figure size 432x288 with 1 Axes>"
      ]
     },
     "metadata": {
      "needs_background": "light"
     },
     "output_type": "display_data"
    }
   ],
   "source": [
    "# radiologist accuracy score\n",
    "radiologist_evaluation_summary = df['radiologist_evaluation'].value_counts(normalize=True) * 100\n",
    "radiologist_evaluation_summary = radiologist_evaluation_summary.to_frame()\n",
    "\n",
    "# our accuracy score\n",
    "our_evaluation_summary = df['our_evaluation'].value_counts(normalize=True) * 100\n",
    "our_evaluation_summary = our_evaluation_summary.to_frame()\n",
    "\n",
    "combined_evaluation_summary = pd.concat([our_evaluation_summary, radiologist_evaluation_summary], axis=1)\n",
    "\n",
    "# visualize\n",
    "ax = combined_evaluation_summary.plot(kind=\"bar\", rot=0)\n",
    "plt.title(\"Comparision of Evaluations\")\n",
    "plt.xlabel(\"Evaluation\")\n",
    "plt.ylabel(\"Percentage\")\n",
    "plt.show()"
   ]
  },
  {
   "cell_type": "code",
   "execution_count": 6,
   "id": "a36c4f3e",
   "metadata": {},
   "outputs": [
    {
     "data": {
      "image/png": "[encoded data removed]",
      "text/plain": [
       "<Figure size 432x288 with 1 Axes>"
      ]
     },
     "metadata": {},
     "output_type": "display_data"
    }
   ],
   "source": [
    "# percent of images we agreed on\n",
    "matches = round(len(df[df['our_evaluation'] == df['radiologist_evaluation']]) / len(df) * 100, 2)\n",
    "\n",
    "# percent of images we differ on\n",
    "differs = round(len(df[df['our_evaluation'] != df['radiologist_evaluation']]) / len(df) * 100, 2)\n",
    "\n",
    "# visualize\n",
    "fig = plt.figure()\n",
    "ax = fig.add_axes([0,0,1,1])\n",
    "ax.axis('equal')\n",
    "langs = ['Matching Evaluations', 'Differing Evaluations']\n",
    "students = [matches, differs]\n",
    "ax.pie(students, labels = langs, autopct='%1.2f%%')\n",
    "plt.show()"
   ]
  },
  {
   "cell_type": "markdown",
   "id": "e04b3301",
   "metadata": {},
   "source": [
    "#### We can see that the evaluations are very similar so moving forward, we will only use the radiologist's evaluations."
   ]
  },
  {
   "cell_type": "code",
   "execution_count": 8,
   "id": "da0ae344",
   "metadata": {},
   "outputs": [
    {
     "data": {
      "text/html": [
       "<div>\n",
       "<style scoped>\n",
       "    .dataframe tbody tr th:only-of-type {\n",
       "        vertical-align: middle;\n",
       "    }\n",
       "\n",
       "    .dataframe tbody tr th {\n",
       "        vertical-align: top;\n",
       "    }\n",
       "\n",
       "    .dataframe thead th {\n",
       "        text-align: right;\n",
       "    }\n",
       "</style>\n",
       "<table border=\"1\" class=\"dataframe\">\n",
       "  <thead>\n",
       "    <tr style=\"text-align: right;\">\n",
       "      <th></th>\n",
       "      <th>category</th>\n",
       "      <th>radiologist_evaluation</th>\n",
       "      <th>count</th>\n",
       "    </tr>\n",
       "  </thead>\n",
       "  <tbody>\n",
       "    <tr>\n",
       "      <th>0</th>\n",
       "      <td>corrupted</td>\n",
       "      <td>acceptable</td>\n",
       "      <td>5</td>\n",
       "    </tr>\n",
       "    <tr>\n",
       "      <th>1</th>\n",
       "      <td>corrupted</td>\n",
       "      <td>anomaly</td>\n",
       "      <td>8</td>\n",
       "    </tr>\n",
       "    <tr>\n",
       "      <th>2</th>\n",
       "      <td>corrupted</td>\n",
       "      <td>unacceptable</td>\n",
       "      <td>1</td>\n",
       "    </tr>\n",
       "    <tr>\n",
       "      <th>3</th>\n",
       "      <td>internal boundary</td>\n",
       "      <td>acceptable</td>\n",
       "      <td>5</td>\n",
       "    </tr>\n",
       "    <tr>\n",
       "      <th>4</th>\n",
       "      <td>internal boundary</td>\n",
       "      <td>anomaly</td>\n",
       "      <td>9</td>\n",
       "    </tr>\n",
       "    <tr>\n",
       "      <th>5</th>\n",
       "      <td>internal boundary</td>\n",
       "      <td>unacceptable</td>\n",
       "      <td>69</td>\n",
       "    </tr>\n",
       "    <tr>\n",
       "      <th>6</th>\n",
       "      <td>no boundary</td>\n",
       "      <td>acceptable</td>\n",
       "      <td>2</td>\n",
       "    </tr>\n",
       "    <tr>\n",
       "      <th>7</th>\n",
       "      <td>no boundary</td>\n",
       "      <td>unacceptable</td>\n",
       "      <td>6</td>\n",
       "    </tr>\n",
       "    <tr>\n",
       "      <th>8</th>\n",
       "      <td>no muscle</td>\n",
       "      <td>acceptable</td>\n",
       "      <td>6</td>\n",
       "    </tr>\n",
       "    <tr>\n",
       "      <th>9</th>\n",
       "      <td>no muscle</td>\n",
       "      <td>unacceptable</td>\n",
       "      <td>2</td>\n",
       "    </tr>\n",
       "    <tr>\n",
       "      <th>10</th>\n",
       "      <td>normal</td>\n",
       "      <td>acceptable</td>\n",
       "      <td>112</td>\n",
       "    </tr>\n",
       "    <tr>\n",
       "      <th>11</th>\n",
       "      <td>normal</td>\n",
       "      <td>anomaly</td>\n",
       "      <td>1</td>\n",
       "    </tr>\n",
       "    <tr>\n",
       "      <th>12</th>\n",
       "      <td>normal</td>\n",
       "      <td>unacceptable</td>\n",
       "      <td>96</td>\n",
       "    </tr>\n",
       "  </tbody>\n",
       "</table>\n",
       "</div>"
      ],
      "text/plain": [
       "             category radiologist_evaluation  count\n",
       "0           corrupted             acceptable      5\n",
       "1           corrupted                anomaly      8\n",
       "2           corrupted           unacceptable      1\n",
       "3   internal boundary             acceptable      5\n",
       "4   internal boundary                anomaly      9\n",
       "5   internal boundary           unacceptable     69\n",
       "6         no boundary             acceptable      2\n",
       "7         no boundary           unacceptable      6\n",
       "8           no muscle             acceptable      6\n",
       "9           no muscle           unacceptable      2\n",
       "10             normal             acceptable    112\n",
       "11             normal                anomaly      1\n",
       "12             normal           unacceptable     96"
      ]
     },
     "execution_count": 8,
     "metadata": {},
     "output_type": "execute_result"
    }
   ],
   "source": [
    "df_categorised = df.groupby(by=['category', 'radiologist_evaluation']).size().to_frame('count').reset_index()\n",
    "df_categorised"
   ]
  },
  {
   "cell_type": "code",
   "execution_count": 9,
   "id": "e8486f01",
   "metadata": {},
   "outputs": [
    {
     "data": {
      "text/html": [
       "<div>\n",
       "<style scoped>\n",
       "    .dataframe tbody tr th:only-of-type {\n",
       "        vertical-align: middle;\n",
       "    }\n",
       "\n",
       "    .dataframe tbody tr th {\n",
       "        vertical-align: top;\n",
       "    }\n",
       "\n",
       "    .dataframe thead th {\n",
       "        text-align: right;\n",
       "    }\n",
       "</style>\n",
       "<table border=\"1\" class=\"dataframe\">\n",
       "  <thead>\n",
       "    <tr style=\"text-align: right;\">\n",
       "      <th>radiologist_evaluation</th>\n",
       "      <th>acceptable</th>\n",
       "      <th>anomaly</th>\n",
       "      <th>unacceptable</th>\n",
       "    </tr>\n",
       "    <tr>\n",
       "      <th>category</th>\n",
       "      <th></th>\n",
       "      <th></th>\n",
       "      <th></th>\n",
       "    </tr>\n",
       "  </thead>\n",
       "  <tbody>\n",
       "    <tr>\n",
       "      <th>corrupted</th>\n",
       "      <td>5</td>\n",
       "      <td>8</td>\n",
       "      <td>1</td>\n",
       "    </tr>\n",
       "    <tr>\n",
       "      <th>internal boundary</th>\n",
       "      <td>5</td>\n",
       "      <td>9</td>\n",
       "      <td>69</td>\n",
       "    </tr>\n",
       "    <tr>\n",
       "      <th>no boundary</th>\n",
       "      <td>2</td>\n",
       "      <td>0</td>\n",
       "      <td>6</td>\n",
       "    </tr>\n",
       "    <tr>\n",
       "      <th>no muscle</th>\n",
       "      <td>6</td>\n",
       "      <td>0</td>\n",
       "      <td>2</td>\n",
       "    </tr>\n",
       "    <tr>\n",
       "      <th>normal</th>\n",
       "      <td>112</td>\n",
       "      <td>1</td>\n",
       "      <td>96</td>\n",
       "    </tr>\n",
       "  </tbody>\n",
       "</table>\n",
       "</div>"
      ],
      "text/plain": [
       "radiologist_evaluation  acceptable  anomaly  unacceptable\n",
       "category                                                 \n",
       "corrupted                        5        8             1\n",
       "internal boundary                5        9            69\n",
       "no boundary                      2        0             6\n",
       "no muscle                        6        0             2\n",
       "normal                         112        1            96"
      ]
     },
     "execution_count": 9,
     "metadata": {},
     "output_type": "execute_result"
    }
   ],
   "source": [
    "df_pivot = pd.pivot_table(\n",
    "    df_categorised,\n",
    "    values=\"count\",\n",
    "    index=\"category\",\n",
    "    columns=\"radiologist_evaluation\",\n",
    "    fill_value=0\n",
    ")\n",
    "\n",
    "df_pivot"
   ]
  },
  {
   "cell_type": "code",
   "execution_count": 10,
   "id": "cf3554b7",
   "metadata": {},
   "outputs": [
    {
     "data": {
      "image/png": "[encoded data removed]",
      "text/plain": [
       "<Figure size 720x720 with 5 Axes>"
      ]
     },
     "metadata": {},
     "output_type": "display_data"
    }
   ],
   "source": [
    "fig, axes = plt.subplots(2, 3, figsize=(10, 10), facecolor='#e8f4f0')\n",
    "fig.delaxes(ax= axes[1,2])\n",
    "\n",
    "font_color = '#525252'\n",
    "colors = ['#47ACB1', '#FFCD34', '#C9222B']\n",
    "\n",
    "for i, (idx, row) in enumerate(df_pivot.head(8).iterrows()):\n",
    "    ax = axes[i // 3, i % 3]\n",
    "    row = row[row.gt(row.sum() * .01)]\n",
    "    ax.pie(row, \n",
    "#            labels=row.values,\n",
    "           startangle=30, \n",
    "           wedgeprops=dict(width=.5), # For donuts,\n",
    "           colors = colors,\n",
    "           autopct='%.0f%%',\n",
    "           pctdistance=1.15\n",
    "          )\n",
    "    ax.set_title(idx, fontsize=16)\n",
    "    \n",
    "    green_patch = mpatches.Patch(color='#47ACB1', label='acceptable')\n",
    "    yellow_patch = mpatches.Patch(color='#FFCD34', label='anomaly')\n",
    "    red_patch = mpatches.Patch(color='#C9222B', label='unacceptable')\n",
    "    legend = plt.legend(handles=[green_patch, yellow_patch, red_patch],\n",
    "                        bbox_to_anchor=(1.3, .87), # Legend position\n",
    "                        loc='upper left',  \n",
    "                        ncol=1,\n",
    "                        fancybox=True, \n",
    "                        framealpha=1, \n",
    "                        shadow=True, \n",
    "                        borderpad=1)\n",
    "    \n",
    "    for text in legend.get_texts():\n",
    "        plt.setp(text, color=font_color) # Legend font color\n",
    "\n",
    "fig.subplots_adjust(wspace=.2) # Space between charts\n",
    "\n",
    "title = fig.suptitle('Count of Level Set Results Grouped By Image Type', y=.95, fontsize=20, color=font_color)\n",
    "# To prevent the title from being cropped\n",
    "plt.subplots_adjust(top=0.85, bottom=0.15)"
   ]
  }
 ],
 "metadata": {
  "kernelspec": {
   "display_name": "Python 3",
   "language": "python",
   "name": "python3"
  },
  "language_info": {
   "codemirror_mode": {
    "name": "ipython",
    "version": 3
   },
   "file_extension": ".py",
   "mimetype": "text/x-python",
   "name": "python",
   "nbconvert_exporter": "python",
   "pygments_lexer": "ipython3",
   "version": "3.9.5"
  }
 },
 "nbformat": 4,
 "nbformat_minor": 5
}
