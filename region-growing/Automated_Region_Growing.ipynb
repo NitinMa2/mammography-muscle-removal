{
 "cells": [
  {
   "cell_type": "markdown",
   "metadata": {},
   "source": [
    "## Import Libraries"
   ]
  },
  {
   "cell_type": "code",
   "execution_count": 3,
   "metadata": {},
   "outputs": [],
   "source": [
    "import sys\n",
    "import cv2\n",
    "import numpy as np\n",
    "import pydicom\n",
    "import os, sys, getopt\n",
    "import matplotlib.pyplot as plt\n",
    "from PIL import Image, ImageEnhance\n",
    "import math"
   ]
  },
  {
   "cell_type": "code",
   "execution_count": 4,
   "metadata": {},
   "outputs": [],
   "source": [
    "# setting the directory of our dataset\n",
    "DATASET_DIR = \"dataset/mias/all-mias/\""
   ]
  },
  {
   "cell_type": "markdown",
   "metadata": {},
   "source": [
    "## Preprocessing\n",
    "1. Left align \n",
    "2. Perform contrast\n",
    "3. Remove bar "
   ]
  },
  {
   "cell_type": "code",
   "execution_count": 5,
   "metadata": {},
   "outputs": [],
   "source": [
    "def left_align(img):\n",
    "    \"\"\"\n",
    "    Determines whether the breast is aligned to the right or left side of the image\n",
    "    by measuring the mean gray level of either half. Flips the image to the left if it\n",
    "    is right-aligned.\n",
    "    \n",
    "    Parameters:\n",
    "        img: The numpy array representing the image.\n",
    "    \n",
    "    Assumptions:\n",
    "        - The half of the image on which the majority of the breast region lies has a higher mean than the othe half\n",
    "        - The input image is LCC view\n",
    "    \n",
    "    Returns:\n",
    "        numpy array with the left aligned image.\n",
    "    \"\"\"\n",
    "    pixels = np.asarray(img)\n",
    "    if np.mean(pixels[0:256, 0:128]) < np.mean(pixels[0:256, 128:256]):\n",
    "        return pixels[:, ::-1]\n",
    "    return pixels "
   ]
  },
  {
   "cell_type": "code",
   "execution_count": 6,
   "metadata": {},
   "outputs": [],
   "source": [
    "def perform_contrast(img):\n",
    "    \"\"\"\n",
    "    Adjusts the contrast of the given image by a specific factor.\n",
    "    \n",
    "    Parameters:\n",
    "        img: PIL image to be adjusted\n",
    "    Assumptions:\n",
    "        None\n",
    "    Returns:\n",
    "        PIL image with the contrast adjusted.\n",
    "    \"\"\"\n",
    "    enhancer = ImageEnhance.Contrast(img)\n",
    "    factor = 1.3#increase contrast\n",
    "    img = enhancer.enhance(factor)\n",
    "    return img "
   ]
  },
  {
   "cell_type": "code",
   "execution_count": 7,
   "metadata": {},
   "outputs": [],
   "source": [
    "def remove_bar(img):\n",
    "    \"\"\"\n",
    "    Finds the width of the black bar on the left of the image by checking iteratively until a pixel whose value is greater than\n",
    "    the mean of the grey values of the image is found. Then crops the image to remove the bar.\n",
    "    \n",
    "    Parameters:\n",
    "        img: numpy array of the image to be adjusted\n",
    "    Assumptions:\n",
    "        - There is no blank space at the top of the image (not even 1px)\n",
    "        - The image is left-aligned\n",
    "        - The black bar is darker than the mean grey level of the image, and the pectoral muscle region is brighter.\n",
    "    Returns:\n",
    "        Numpy array of the cropped image\n",
    "    \"\"\"\n",
    "    width = 0 \n",
    "    while img[1, width] <= np.mean(img):\n",
    "        width += 1\n",
    "    return img[:, width:256]"
   ]
  },
  {
   "cell_type": "code",
   "execution_count": 8,
   "metadata": {},
   "outputs": [],
   "source": [
    "def preprocess_image(img):\n",
    "    \"\"\"\n",
    "    Combines all of the above preprocessing steps together on a given image.\n",
    "    \n",
    "    Parameters:\n",
    "        img: PIL image to be adjusted\n",
    "    Assumptions:\n",
    "        - There is no blank space at the top of the image (not even 1px).\n",
    "        - We want to optimize for speed over precision.\n",
    "        - The input image is LCC view.\n",
    "        - The half of the image on which the majority of the breast region lies has a higher mean than the othe half.\n",
    "        \n",
    "    Returns:\n",
    "        PIL image ready for the level set algorithm.\n",
    "    \"\"\"\n",
    "    img = img.resize((256,256))\n",
    "    img = left_align(img)\n",
    "    img = remove_bar(img)\n",
    "    img = np.interp(img, [np.min(img), np.max(img)], [0, 255])\n",
    "    return img"
   ]
  },
  {
   "cell_type": "markdown",
   "metadata": {},
   "source": [
    "## Region Growing Algorithm"
   ]
  },
  {
   "cell_type": "code",
   "execution_count": 9,
   "metadata": {},
   "outputs": [],
   "source": [
    "class Region_Growing():\n",
    "\n",
    "    def __init__(self, img, max_iter, threshold, conn=4):\n",
    "        self.img = img\n",
    "        self.segmentation = np.empty(shape=img.shape)\n",
    "        self.segmentation.fill(255)\n",
    "        self.max_iter_to_change_threshold = max_iter\n",
    "        \n",
    "        self.threshold = threshold\n",
    "        self.seeds = [(1, 1)]\n",
    "        if conn == 4:\n",
    "            self.orientations = [(1, 0), (0, 1), (-1, 0), (0, -1)]\n",
    "        elif conn == 8:\n",
    "            self.orientations = [(1, 0), (1, 1), (0, 1), (-1, 1), (-1, 0), (-1, -1), (0, -1), (1, -1)]  # 8 connectivity\n",
    "        else:\n",
    "            raise ValueError(\"(%s) Connectivity type not known (4 or 8 available)!\" % (sys._getframe().f_code.co_name))\n",
    "\n",
    "    def segment(self):\n",
    "        \"\"\"\n",
    "        Segment the image with the provided user seeds using region growing\n",
    "        \"\"\"\n",
    "        for seed in self.seeds:\n",
    "            curr_pixel = [seed[1], seed[0]]\n",
    "            if self.segmentation[curr_pixel[0], curr_pixel[1]] == 0:\n",
    "                continue  # pixel already explored\n",
    "            contour = []\n",
    "            seg_size = 1\n",
    "            mean_seg_value = (self.img[curr_pixel[0], curr_pixel[1]])\n",
    "            dist = 0\n",
    "            iterations = 0\n",
    "            while dist < self.threshold:\n",
    "                if iterations > self.max_iter_to_change_threshold and self.threshold != 2.5:\n",
    "                    return 0\n",
    "                # Include current pixel in segmentation\n",
    "                self.segmentation[curr_pixel[0], curr_pixel[1]] = 0\n",
    "                # Explore neighbours of current pixel\n",
    "                contour = self.__explore_neighbours(contour, curr_pixel)\n",
    "                # Get the nearest neighbour\n",
    "                nearest_neighbour_idx, dist = self.__get_nearest_neighbour(contour, mean_seg_value)\n",
    "                # If no more neighbours to grow, move to the next seed\n",
    "                if nearest_neighbour_idx == -1 : break\n",
    "                # Update Current pixel to the nearest neighbour and increment size\n",
    "                curr_pixel = contour[nearest_neighbour_idx]\n",
    "                seg_size += 1\n",
    "                # Update Mean pixel value for segmentation\n",
    "                mean_seg_value = (mean_seg_value * seg_size + float(self.img[curr_pixel[0], curr_pixel[1]])) / (\n",
    "                        seg_size + 1)\n",
    "                # Delete from contour once the nearest neighbour as chosen as the current node for expansion\n",
    "                iterations += 1\n",
    "                del contour[nearest_neighbour_idx]\n",
    "        return self.segmentation\n",
    "\n",
    "    def display_and_resegment(self, name=\"Region Growing\"):\n",
    "        # Display original image where segmentation was not done\n",
    "        result = np.minimum(self.img, self.segmentation)\n",
    "        result = np.array(result, dtype=np.uint8)\n",
    "        \n",
    "        # Display the result\n",
    "        return result\n",
    "\n",
    "    def __explore_neighbours(self, contour, current_pixel):\n",
    "        for orientation in self.orientations:\n",
    "            neighbour = self.__get_neighbouring_pixel(current_pixel, orientation, self.img.shape)\n",
    "            if neighbour is None:\n",
    "                continue\n",
    "            if self.segmentation[neighbour[0], neighbour[1]] == 255:\n",
    "                contour.append(neighbour)\n",
    "                self.segmentation[neighbour[0], neighbour[1]] = 150\n",
    "        return contour \n",
    "\n",
    "    def __get_neighbouring_pixel(self, current_pixel, orient, img_shape):\n",
    "        neighbour = (current_pixel[0] + orient[0], current_pixel[1] + orient[1])\n",
    "        if self.is_pixel_inside_image(pixel=neighbour, img_shape=img_shape):\n",
    "            return neighbour\n",
    "        else:\n",
    "            return None\n",
    "\n",
    "    def __get_nearest_neighbour(self, contour, mean_seg_value):\n",
    "        dist_list = [abs(self.img[pixel[0], pixel[1]] - mean_seg_value) for pixel in contour]\n",
    "        if len(dist_list) == 0: return -1, 1000\n",
    "        min_dist = min(dist_list)\n",
    "        index = dist_list.index(min_dist)\n",
    "        return index, min_dist\n",
    "\n",
    "    def is_pixel_inside_image(self, pixel, img_shape):\n",
    "        return 0 <= pixel[0] < img_shape[0] and 0 <= pixel[1] < img_shape[1]"
   ]
  },
  {
   "cell_type": "code",
   "execution_count": 10,
   "metadata": {},
   "outputs": [],
   "source": [
    "#Global variables\n",
    "DICOM_IMAGE_EXT = '.dcm'\n",
    "PGM_IMAGE_EXT = '.pgm'\n",
    "OTHER_IMAGE_EXT = ['.jpg', '.png', '.jpeg']\n",
    "CONN = 4"
   ]
  },
  {
   "cell_type": "code",
   "execution_count": 11,
   "metadata": {},
   "outputs": [],
   "source": [
    "def preprocessing(image_path):\n",
    "    original_image_data, image_name = handle_different_file_extensions(image_path)\n",
    "    contrasted_img = perform_contrast(original_image_data)\n",
    "    processed_img = preprocess_image(contrasted_img)\n",
    "    return image_name, processed_img, processed_img"
   ]
  },
  {
   "cell_type": "code",
   "execution_count": 12,
   "metadata": {},
   "outputs": [],
   "source": [
    "def run_region_growing_on_image(image_path, max_iter):\n",
    "    image_name, original_image, preprocessed_image = preprocessing(image_path)\n",
    "    segmented_img = region_growing(preprocessed_image, max_iter, segmentation_name=image_name + \" segmentation\", neighbours=CONN)\n",
    "    return original_image, segmented_img"
   ]
  },
  {
   "cell_type": "code",
   "execution_count": 13,
   "metadata": {},
   "outputs": [],
   "source": [
    "def region_growing(image_data, max_iter, neighbours, segmentation_name=\"Region Growing\"):\n",
    "    thresholds = [60, 40, 30, 10, 5, 2.5]\n",
    "    for i in thresholds:\n",
    "        region_growing = Region_Growing(image_data, max_iter, threshold=i, conn=neighbours)\n",
    "        result = region_growing.segment()\n",
    "        if isinstance(result, int):\n",
    "            continue\n",
    "        else:\n",
    "            print(\"Threshold used:\" + str(i))\n",
    "            return region_growing.display_and_resegment(name=segmentation_name)"
   ]
  },
  {
   "cell_type": "code",
   "execution_count": 14,
   "metadata": {},
   "outputs": [],
   "source": [
    "def handle_different_file_extensions(image_path):\n",
    "    name, ext = os.path.splitext(image_path)\n",
    "    if ext == DICOM_IMAGE_EXT:\n",
    "        return (pydicom.read_file(image_path).pixel_array, name)\n",
    "    elif ext == PGM_IMAGE_EXT:\n",
    "        return (Image.open(image_path), name)\n",
    "    elif ext in OTHER_IMAGE_EXT:\n",
    "        return (cv2.imread(image_path, 0), name)\n",
    "    else:\n",
    "        print(\"Invalid Image Format. Supported Image Formats are: {}, {}\".format(DICOM_IMAGE_EXT, OTHER_IMAGE_EXT))\n",
    "        sys.exit()"
   ]
  },
  {
   "cell_type": "code",
   "execution_count": 15,
   "metadata": {},
   "outputs": [],
   "source": [
    "def run_region_growing_and_plot(starting_index, ending_index, max_iter):\n",
    "    ## Contains a list of tuple, each tuple (original image, modified image)\n",
    "    original_and_modified_images = []\n",
    "#     class_1 = [17,18,50,51,57,60,65,66,67,68,88,89,90,95,123,146,156,161,165]\n",
    "    for i in range(starting_index, ending_index + 1):\n",
    "        file_number = str(i).zfill(3)\n",
    "        file_name = \"mdb\" + file_number + \".pgm\"\n",
    "        file_path = DATASET_DIR + file_name\n",
    "        result = run_region_growing_on_image(file_path, max_iter)\n",
    "        original_and_modified_images.append(result)\n",
    "        print(file_name + \" has been segmented\")\n",
    "    counter = 0\n",
    "    x_axis = 0\n",
    "    fig, ax = plt.subplots(nrows=int((ending_index - starting_index)/2) + 1 ,ncols=4, figsize=(12.5,12.5))\n",
    "#     fig, ax = plt.subplots(nrows=10,ncols=4, figsize=(12.5,12.5))\n",
    "    for original_img, img in original_and_modified_images:\n",
    "        y_axis= math.floor(counter)\n",
    "        ax[y_axis, x_axis].axis('off')\n",
    "        ax[y_axis, x_axis].imshow(original_img)\n",
    "        x_axis += 1\n",
    "        ax[y_axis, x_axis].axis('off')\n",
    "        ax[y_axis, x_axis].imshow(img)\n",
    "        x_axis +=1 \n",
    "        if x_axis > 3:\n",
    "            x_axis = 0\n",
    "        counter += 0.5"
   ]
  },
  {
   "cell_type": "code",
   "execution_count": 16,
   "metadata": {},
   "outputs": [
    {
     "name": "stdout",
     "output_type": "stream",
     "text": [
      "Key in any integer without padding (eg, 1 for 001)\n",
      "Starting from mdb_ _ _:1\n",
      "Until mdb_ _ _:2\n",
      "Wait for your result!\n",
      "Threshold used:60\n",
      "mdb001.pgm has been segmented\n",
      "Threshold used:30\n",
      "mdb002.pgm has been segmented\n"
     ]
    },
    {
     "ename": "IndexError",
     "evalue": "too many indices for array: array is 1-dimensional, but 2 were indexed",
     "output_type": "error",
     "traceback": [
      "\u001b[1;31m---------------------------------------------------------------------------\u001b[0m",
      "\u001b[1;31mIndexError\u001b[0m                                Traceback (most recent call last)",
      "\u001b[1;32m<ipython-input-16-d6ba7806a164>\u001b[0m in \u001b[0;36m<module>\u001b[1;34m\u001b[0m\n\u001b[0;32m      3\u001b[0m \u001b[0mep\u001b[0m \u001b[1;33m=\u001b[0m \u001b[0mint\u001b[0m\u001b[1;33m(\u001b[0m\u001b[0minput\u001b[0m\u001b[1;33m(\u001b[0m\u001b[1;34m\"Until mdb_ _ _:\"\u001b[0m\u001b[1;33m)\u001b[0m\u001b[1;33m)\u001b[0m\u001b[1;33m\u001b[0m\u001b[1;33m\u001b[0m\u001b[0m\n\u001b[0;32m      4\u001b[0m \u001b[0mprint\u001b[0m\u001b[1;33m(\u001b[0m\u001b[1;34m\"Wait for your result!\"\u001b[0m\u001b[1;33m)\u001b[0m\u001b[1;33m\u001b[0m\u001b[1;33m\u001b[0m\u001b[0m\n\u001b[1;32m----> 5\u001b[1;33m \u001b[0mrun_region_growing_and_plot\u001b[0m\u001b[1;33m(\u001b[0m\u001b[0msp\u001b[0m\u001b[1;33m,\u001b[0m\u001b[0mep\u001b[0m\u001b[1;33m,\u001b[0m\u001b[1;36m6200\u001b[0m\u001b[1;33m)\u001b[0m\u001b[1;33m\u001b[0m\u001b[1;33m\u001b[0m\u001b[0m\n\u001b[0m",
      "\u001b[1;32m<ipython-input-15-77776c56d579>\u001b[0m in \u001b[0;36mrun_region_growing_and_plot\u001b[1;34m(starting_index, ending_index, max_iter)\u001b[0m\n\u001b[0;32m     16\u001b[0m     \u001b[1;32mfor\u001b[0m \u001b[0moriginal_img\u001b[0m\u001b[1;33m,\u001b[0m \u001b[0mimg\u001b[0m \u001b[1;32min\u001b[0m \u001b[0moriginal_and_modified_images\u001b[0m\u001b[1;33m:\u001b[0m\u001b[1;33m\u001b[0m\u001b[1;33m\u001b[0m\u001b[0m\n\u001b[0;32m     17\u001b[0m         \u001b[0my_axis\u001b[0m\u001b[1;33m=\u001b[0m \u001b[0mmath\u001b[0m\u001b[1;33m.\u001b[0m\u001b[0mfloor\u001b[0m\u001b[1;33m(\u001b[0m\u001b[0mcounter\u001b[0m\u001b[1;33m)\u001b[0m\u001b[1;33m\u001b[0m\u001b[1;33m\u001b[0m\u001b[0m\n\u001b[1;32m---> 18\u001b[1;33m         \u001b[0max\u001b[0m\u001b[1;33m[\u001b[0m\u001b[0my_axis\u001b[0m\u001b[1;33m,\u001b[0m \u001b[0mx_axis\u001b[0m\u001b[1;33m]\u001b[0m\u001b[1;33m.\u001b[0m\u001b[0maxis\u001b[0m\u001b[1;33m(\u001b[0m\u001b[1;34m'off'\u001b[0m\u001b[1;33m)\u001b[0m\u001b[1;33m\u001b[0m\u001b[1;33m\u001b[0m\u001b[0m\n\u001b[0m\u001b[0;32m     19\u001b[0m         \u001b[0max\u001b[0m\u001b[1;33m[\u001b[0m\u001b[0my_axis\u001b[0m\u001b[1;33m,\u001b[0m \u001b[0mx_axis\u001b[0m\u001b[1;33m]\u001b[0m\u001b[1;33m.\u001b[0m\u001b[0mimshow\u001b[0m\u001b[1;33m(\u001b[0m\u001b[0moriginal_img\u001b[0m\u001b[1;33m)\u001b[0m\u001b[1;33m\u001b[0m\u001b[1;33m\u001b[0m\u001b[0m\n\u001b[0;32m     20\u001b[0m         \u001b[0mx_axis\u001b[0m \u001b[1;33m+=\u001b[0m \u001b[1;36m1\u001b[0m\u001b[1;33m\u001b[0m\u001b[1;33m\u001b[0m\u001b[0m\n",
      "\u001b[1;31mIndexError\u001b[0m: too many indices for array: array is 1-dimensional, but 2 were indexed"
     ]
    },
    {
     "data": {
      "image/png": "[encoded data removed]",
      "text/plain": [
       "<Figure size 900x900 with 4 Axes>"
      ]
     },
     "metadata": {
      "needs_background": "light"
     },
     "output_type": "display_data"
    }
   ],
   "source": [
    "print(\"Key in any integer without padding (eg, 1 for 001)\")\n",
    "sp = int(input(\"Starting from mdb_ _ _:\"))\n",
    "ep = int(input(\"Until mdb_ _ _:\"))\n",
    "print(\"Wait for your result!\")\n",
    "run_region_growing_and_plot(sp,ep,6200)"
   ]
  }
 ],
 "metadata": {
  "kernelspec": {
   "display_name": "Python 3",
   "language": "python",
   "name": "python3"
  },
  "language_info": {
   "codemirror_mode": {
    "name": "ipython",
    "version": 3
   },
   "file_extension": ".py",
   "mimetype": "text/x-python",
   "name": "python",
   "nbconvert_exporter": "python",
   "pygments_lexer": "ipython3",
   "version": "3.9.5"
  }
 },
 "nbformat": 4,
 "nbformat_minor": 4
}
