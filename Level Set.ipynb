{
 "cells": [
  {
   "cell_type": "code",
   "execution_count": 1,
   "metadata": {},
   "outputs": [],
   "source": [
    "import numpy as np\n",
    "import pandas\n",
    "from numpy.lib.npyio import save\n",
    "from skimage.io import imread\n",
    "from PIL import Image, ImageEnhance\n",
    "\n",
    "from scipy.ndimage import gaussian_filter\n",
    "from scipy.ndimage import laplace\n",
    "\n",
    "import matplotlib.pyplot as plt\n",
    "from skimage import measure\n",
    "import matplotlib\n",
    "from PIL import Image"
   ]
  },
  {
   "cell_type": "markdown",
   "metadata": {},
   "source": [
    "## Preprocessing"
   ]
  },
  {
   "cell_type": "code",
   "execution_count": 2,
   "metadata": {},
   "outputs": [],
   "source": [
    "def left_align(img):\n",
    "    pixels = np.asarray(img)\n",
    "    if np.mean(pixels[0:256, 0:128]) < np.mean(pixels[0:256, 128:256]):\n",
    "        return pixels[:, ::-1]\n",
    "    return pixels "
   ]
  },
  {
   "cell_type": "code",
   "execution_count": 3,
   "metadata": {},
   "outputs": [],
   "source": [
    "def perform_contrast(img):\n",
    "    enhancer = ImageEnhance.Contrast(img)\n",
    "    factor = 2 #increase contrast\n",
    "    img = enhancer.enhance(factor)\n",
    "    return img "
   ]
  },
  {
   "cell_type": "code",
   "execution_count": 4,
   "metadata": {},
   "outputs": [],
   "source": [
    "def remove_bar(img):\n",
    "    width = 0 \n",
    "    while img[0, width] <= np.mean(img):\n",
    "        width += 1\n",
    "    return img[:, width:256]"
   ]
  },
  {
   "cell_type": "code",
   "execution_count": 5,
   "metadata": {},
   "outputs": [],
   "source": [
    "def preprocess_image(img):\n",
    "    img = img.resize((256,256))\n",
    "    img = left_align(img)\n",
    "    img = remove_bar(img)\n",
    "    img = np.interp(img, [np.min(img), np.max(img)], [0, 255])\n",
    "    return img"
   ]
  },
  {
   "cell_type": "markdown",
   "metadata": {},
   "source": [
    "## Parameter Initialisation"
   ]
  },
  {
   "cell_type": "code",
   "execution_count": 6,
   "metadata": {},
   "outputs": [],
   "source": [
    "def initialise_params(preprocessed_img):\n",
    "\n",
    "    # initialize LSF as binary step function\n",
    "    c0 = 2\n",
    "    initial_lsf = c0 * np.ones(preprocessed_img.shape)\n",
    "    # generate the initial region R0 as two rectangles\n",
    "    initial_lsf[0:10, 0:10] = -c0 # top left corner\n",
    "\n",
    "    # parameters\n",
    "    return {\n",
    "        'img': preprocessed_img,\n",
    "        'initial_lsf': initial_lsf,\n",
    "        'timestep': 7,  # time step\n",
    "        'iter_inner': 10,\n",
    "        'iter_outer': 20,\n",
    "        'lmda': 8,  # coefficient of the weighted length term L(phi)\n",
    "        'alfa': -5,  # coefficient of the weighted area term A(phi)\n",
    "        'epsilon': 1.5,  # parameter that specifies the width of the DiracDelta function\n",
    "        'sigma': 0.8,  # scale parameter in Gaussian kernel\n",
    "        'potential_function': DOUBLE_WELL,\n",
    "    }"
   ]
  },
  {
   "cell_type": "code",
   "execution_count": 7,
   "metadata": {},
   "outputs": [],
   "source": [
    "# use single well potential p1(s)=0.5*(s-1)^2, which is good for region-based model\n",
    "DOUBLE_WELL = 'double-well'\n",
    "\n",
    "# use double-well potential in Eq. (16), which is good for both edge and region based models\n",
    "SINGLE_WELL = 'single-well'"
   ]
  },
  {
   "cell_type": "markdown",
   "metadata": {},
   "source": [
    "## Function that runs the DLRSE algorithm {iter_outer} times"
   ]
  },
  {
   "cell_type": "code",
   "execution_count": 8,
   "metadata": {},
   "outputs": [],
   "source": [
    "def find_lsf(img: np.ndarray, initial_lsf: np.ndarray, timestep=1, iter_inner=10, iter_outer=30, lmda=5,\n",
    "             alfa=-3, epsilon=1.5, sigma=0.8, potential_function=DOUBLE_WELL):\n",
    "    \"\"\"\n",
    "    :param img: Input image as a grey scale uint8 array (0-255)\n",
    "    :param initial_lsf: Array as same size as the img that contains the seed points for the LSF.\n",
    "    :param timestep: Time Step\n",
    "    :param iter_inner: How many iterations to run drlse before showing the output\n",
    "    :param iter_outer: How many iterations to run the iter_inner\n",
    "    :param lmda: coefficient of the weighted length term L(phi)\n",
    "    :param alfa: coefficient of the weighted area term A(phi)\n",
    "    :param epsilon: parameter that specifies the width of the DiracDelta function\n",
    "    :param sigma: scale parameter in Gaussian kernal\n",
    "    :param potential_function: The potential function to use in drlse algorithm. Should be SINGLE_WELL or DOUBLE_WELL\n",
    "    \"\"\"\n",
    "    if len(img.shape) != 2:\n",
    "        raise Exception(\"Input image should be a gray scale one\")\n",
    "\n",
    "    if len(img.shape) != len(initial_lsf.shape):\n",
    "        raise Exception(\"Input image and the initial LSF should be in the same shape\")\n",
    "\n",
    "    if np.max(img) <= 1:\n",
    "        raise Exception(\"Please make sure the image data is in the range [0, 255]\")\n",
    "\n",
    "    # parameters\n",
    "    mu = 0.2 / timestep  # coefficient of the distance regularization term R(phi)\n",
    "\n",
    "    img = np.array(img, dtype='float32')\n",
    "    img_smooth = gaussian_filter(img, sigma)  # smooth image by Gaussian convolution\n",
    "    [Iy, Ix] = np.gradient(img_smooth)\n",
    "    f = np.square(Ix) + np.square(Iy)\n",
    "    g = 1 / (1 + f)  # edge indicator function.\n",
    "\n",
    "    # initialize LSF as binary step function\n",
    "    phi = initial_lsf.copy()\n",
    "\n",
    "    show_fig1(phi)\n",
    "    show_fig2(phi, img)\n",
    "    print('show fig 2 first time')\n",
    "\n",
    "    if potential_function != SINGLE_WELL:\n",
    "        potential_function = DOUBLE_WELL  # default choice of potential function\n",
    "\n",
    "    # start level set evolution\n",
    "    for n in range(iter_outer):\n",
    "        phi = drlse_edge(phi, g, lmda, mu, alfa, epsilon, timestep, iter_inner, potential_function)\n",
    "        print('show fig 2 for %i time' % n)\n",
    "        draw_all(phi, img)\n",
    "\n",
    "    # refine the zero level contour by further level set evolution with alfa=0\n",
    "    alfa = 0\n",
    "    iter_refine = 10\n",
    "    phi = drlse_edge(phi, g, lmda, mu, alfa, epsilon, timestep, iter_refine, potential_function)\n",
    "    return phi\n"
   ]
  },
  {
   "cell_type": "markdown",
   "metadata": {},
   "source": [
    "## DLRSE Algorithm"
   ]
  },
  {
   "cell_type": "code",
   "execution_count": 9,
   "metadata": {},
   "outputs": [],
   "source": [
    "def drlse_edge(phi_0, g, lmda, mu, alfa, epsilon, timestep, iters, potential_function):  # Updated Level Set Function\n",
    "    \"\"\"\n",
    "\n",
    "    :param phi_0: level set function to be updated by level set evolution\n",
    "    :param g: edge indicator function\n",
    "    :param lmda: weight of the weighted length term\n",
    "    :param mu: weight of distance regularization term\n",
    "    :param alfa: weight of the weighted area term\n",
    "    :param epsilon: width of Dirac Delta function\n",
    "    :param timestep: time step\n",
    "    :param iters: number of iterations\n",
    "    :param potential_function: choice of potential function in distance regularization term.\n",
    "%              As mentioned in the above paper, two choices are provided: potentialFunction='single-well' or\n",
    "%              potentialFunction='double-well', which correspond to the potential functions p1 (single-well)\n",
    "%              and p2 (double-well), respectively.\n",
    "    \"\"\"\n",
    "    phi = phi_0.copy()\n",
    "    [vy, vx] = np.gradient(g)\n",
    "    for k in range(iters):\n",
    "        phi = neumann_bound_cond(phi)\n",
    "        [phi_y, phi_x] = np.gradient(phi)\n",
    "        s = np.sqrt(np.square(phi_x) + np.square(phi_y))\n",
    "        delta = 1e-10\n",
    "        n_x = phi_x / (s + delta)  # add a small positive number to avoid division by zero\n",
    "        n_y = phi_y / (s + delta)\n",
    "        curvature = div(n_x, n_y)\n",
    "\n",
    "        if potential_function == SINGLE_WELL:\n",
    "            dist_reg_term = laplace(phi, mode='nearest') - curvature  # compute distance regularization term in equation (13) with the single-well potential p1.\n",
    "        elif potential_function == DOUBLE_WELL:\n",
    "            dist_reg_term = dist_reg_p2(phi)  # compute the distance regularization term in eqaution (13) with the double-well potential p2.\n",
    "        else:\n",
    "            raise Exception('Error: Wrong choice of potential function. Please input the string \"single-well\" or \"double-well\" in the drlse_edge function.')\n",
    "        dirac_phi = dirac(phi, epsilon)\n",
    "        area_term = dirac_phi * g  # balloon/pressure force\n",
    "        edge_term = dirac_phi * (vx * n_x + vy * n_y) + dirac_phi * g * curvature\n",
    "        phi += timestep * (mu * dist_reg_term + lmda * edge_term + alfa * area_term)\n",
    "    return phi\n",
    "\n",
    "\n",
    "def dist_reg_p2(phi):\n",
    "    \"\"\"\n",
    "        compute the distance regularization term with the double-well potential p2 in equation (16)\n",
    "    \"\"\"\n",
    "    [phi_y, phi_x] = np.gradient(phi)\n",
    "    s = np.sqrt(np.square(phi_x) + np.square(phi_y))\n",
    "    a = (s >= 0) & (s <= 1)\n",
    "    b = (s > 1)\n",
    "    ps = a * np.sin(2 * np.pi * s) / (2 * np.pi) + b * (s - 1)  # compute first order derivative of the double-well potential p2 in equation (16)\n",
    "    dps = ((ps != 0) * ps + (ps == 0)) / ((s != 0) * s + (s == 0))  # compute d_p(s)=p'(s)/s in equation (10). As s-->0, we have d_p(s)-->1 according to equation (18)\n",
    "    return div(dps * phi_x - phi_x, dps * phi_y - phi_y) + laplace(phi, mode='nearest')\n",
    "\n",
    "\n",
    "def div(nx: np.ndarray, ny: np.ndarray) -> np.ndarray:\n",
    "    [_, nxx] = np.gradient(nx)\n",
    "    [nyy, _] = np.gradient(ny)\n",
    "    return nxx + nyy\n",
    "\n",
    "\n",
    "def dirac(x: np.ndarray, sigma: np.ndarray) -> np.ndarray:\n",
    "    f = (1 / 2 / sigma) * (1 + np.cos(np.pi * x / sigma))\n",
    "    b = (x <= sigma) & (x >= -sigma)\n",
    "    return f * b\n",
    "\n",
    "\n",
    "def neumann_bound_cond(f):\n",
    "    \"\"\"\n",
    "        Make a function satisfy Neumann boundary condition\n",
    "    \"\"\"\n",
    "    g = f.copy()\n",
    "\n",
    "    g[np.ix_([0, -1], [0, -1])] = g[np.ix_([2, -3], [2, -3])]\n",
    "    g[np.ix_([0, -1]), 1:-1] = g[np.ix_([2, -3]), 1:-1]\n",
    "    g[1:-1, np.ix_([0, -1])] = g[1:-1, np.ix_([2, -3])]\n",
    "    return g"
   ]
  },
  {
   "cell_type": "markdown",
   "metadata": {},
   "source": [
    "## Visualisation Code"
   ]
  },
  {
   "cell_type": "code",
   "execution_count": 10,
   "metadata": {
    "scrolled": true
   },
   "outputs": [
    {
     "data": {
      "text/plain": [
       "<Figure size 432x288 with 0 Axes>"
      ]
     },
     "metadata": {},
     "output_type": "display_data"
    },
    {
     "data": {
      "text/plain": [
       "<Figure size 432x288 with 0 Axes>"
      ]
     },
     "metadata": {},
     "output_type": "display_data"
    }
   ],
   "source": [
    "plt.ion()\n",
    "fig1 = plt.figure(1)\n",
    "fig2 = plt.figure(2)\n",
    "\n",
    "def show_fig1(phi: np.ndarray):\n",
    "    fig1.clf()\n",
    "    ax1 = fig1.add_subplot(111, projection='3d')\n",
    "    y, x = phi.shape\n",
    "    x = np.arange(0, x, 1)\n",
    "    y = np.arange(0, y, 1)\n",
    "    X, Y = np.meshgrid(x, y)\n",
    "    ax1.plot_surface(X, Y, -phi, rstride=2, cstride=2, color='r', linewidth=0, alpha=0.6, antialiased=True)\n",
    "    ax1.contour(X, Y, phi, 0, colors='g', linewidths=2)\n",
    "\n",
    "def show_fig2(phi: np.ndarray, img: np.ndarray):\n",
    "    fig2.clf()\n",
    "    contours = measure.find_contours(phi, 0)\n",
    "    ax2 = fig2.add_subplot(111)\n",
    "    ax2.imshow(img, interpolation='nearest', cmap=plt.get_cmap('gray'))\n",
    "    for _, contour in enumerate(contours):\n",
    "        ax2.plot(contour[:, 1], contour[:, 0], linewidth=2)\n",
    "\n",
    "def draw_all(phi: np.ndarray, img: np.ndarray, pause=0):\n",
    "    show_fig2(phi, img)\n",
    "    # show_fig1(phi)\n",
    "    plt.pause(pause)\n",
    "    \n",
    "def save_blacken_photo(phi: np.ndarray, img: np.ndarray):\n",
    "    original_img = img.copy()\n",
    "    contours = measure.find_contours(phi, 0)\n",
    "    max_of_y = np.int(np.round(max(contours[0], key=lambda x: x[0]))[0])\n",
    "    # contains the rightmost pixel at that particular y \n",
    "    record_array = [0] * (max_of_y + 1)\n",
    "    for contour in contours[0]:\n",
    "        x, y = np.int(contour[1]), round(contour[0]) \n",
    "        if record_array[y] < x:\n",
    "            record_array[y] = x\n",
    "    for i in range(len(record_array)):\n",
    "        for j in range(record_array[i]):\n",
    "            img[i,j] = 0\n",
    "    matplotlib.image.imsave('image.png', img)\n",
    "    matplotlib.image.imsave('original_img.png', original_img)\n",
    "    return img, original_img"
   ]
  },
  {
   "cell_type": "markdown",
   "metadata": {},
   "source": [
    "## Main Code"
   ]
  },
  {
   "cell_type": "code",
   "execution_count": 11,
   "metadata": {},
   "outputs": [
    {
     "name": "stdout",
     "output_type": "stream",
     "text": [
      "show fig 2 first time\n",
      "show fig 2 for 0 time\n",
      "show fig 2 for 1 time\n",
      "show fig 2 for 2 time\n",
      "show fig 2 for 3 time\n",
      "show fig 2 for 4 time\n",
      "show fig 2 for 5 time\n",
      "show fig 2 for 6 time\n",
      "show fig 2 for 7 time\n",
      "show fig 2 for 8 time\n",
      "show fig 2 for 9 time\n",
      "show fig 2 for 10 time\n",
      "show fig 2 for 11 time\n",
      "show fig 2 for 12 time\n",
      "show fig 2 for 13 time\n",
      "show fig 2 for 14 time\n",
      "show fig 2 for 15 time\n",
      "show fig 2 for 16 time\n",
      "show fig 2 for 17 time\n",
      "show fig 2 for 18 time\n",
      "show fig 2 for 19 time\n",
      "Show final output\n"
     ]
    }
   ],
   "source": [
    "img = Image.open(\"mdb004.pgm\")\n",
    "contrasted_img = perform_contrast(img)\n",
    "processed_img = preprocess_image(contrasted_img)\n",
    "params = initialise_params(processed_img)\n",
    "# params = two_cells_params()\n",
    "phi = find_lsf(**params)\n",
    "\n",
    "print('Show final output')\n",
    "draw_all(phi, params['img'], 10)\n",
    "\n",
    "processed_img_for_download = preprocess_image(img)\n",
    "img, original_img = save_blacken_photo(phi, processed_img_for_download)"
   ]
  },
  {
   "cell_type": "code",
   "execution_count": 12,
   "metadata": {},
   "outputs": [
    {
     "data": {
      "text/plain": [
       "<matplotlib.image.AxesImage at 0x7ff6139b7d00>"
      ]
     },
     "execution_count": 12,
     "metadata": {},
     "output_type": "execute_result"
    },
    {
     "data": {
      "image/png": "[encoded data removed]",
      "text/plain": [
       "<Figure size 432x288 with 2 Axes>"
      ]
     },
     "metadata": {
      "needs_background": "light"
     },
     "output_type": "display_data"
    }
   ],
   "source": [
    "fig3 = plt.figure(3)\n",
    "\n",
    "fig3.add_subplot(1,3,1)\n",
    "plt.imshow(original_img)\n",
    "fig3.add_subplot(1,3,2)\n",
    "plt.imshow(img)"
   ]
  }
 ],
 "metadata": {
  "kernelspec": {
   "display_name": "Python 3",
   "language": "python",
   "name": "python3"
  },
  "language_info": {
   "codemirror_mode": {
    "name": "ipython",
    "version": 3
   },
   "file_extension": ".py",
   "mimetype": "text/x-python",
   "name": "python",
   "nbconvert_exporter": "python",
   "pygments_lexer": "ipython3",
   "version": "3.8.5"
  }
 },
 "nbformat": 4,
 "nbformat_minor": 4
}
